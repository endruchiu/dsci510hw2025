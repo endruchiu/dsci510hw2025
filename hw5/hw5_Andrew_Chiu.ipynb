{
 "cells": [
  {
   "cell_type": "code",
   "execution_count": 1,
   "id": "3df17ace-27ec-485f-9425-dc0429483bb5",
   "metadata": {},
   "outputs": [
    {
     "data": {
      "text/plain": [
       "(558, 133)"
      ]
     },
     "execution_count": 1,
     "metadata": {},
     "output_type": "execute_result"
    }
   ],
   "source": [
    "#task 1 tuple transformation  | Tuples in chapter 10 \n",
    "def transform_tuple(original_tuple) -> (int, int):    # num for num to iterate through the tuple\n",
    "    even_sum = sum(num for num in original_tuple if num % 2 == 0) #234 + 324 == compare if remainder is 0 which is even\n",
    "    odd_sum = sum(num for num in original_tuple if num % 2 == 1) # compare if remainder is 1 which means odd num\n",
    "    return (even_sum, odd_sum)\n",
    "\n",
    "transform_tuple((234, 324, 5, 53, 75))"
   ]
  },
  {
   "cell_type": "code",
   "execution_count": 2,
   "id": "29ff81cb-c5a3-49fb-94ba-b2990262eab9",
   "metadata": {},
   "outputs": [
    {
     "data": {
      "text/plain": [
       "({'A', 'T', 'b', 'l', 'o', 'v', 'x', 'y'},\n",
       " {'B', 'S', 'a', 'd', 'h', 'i', 'm', 'n', 't'},\n",
       " {' ', 'e', 'g', 'r', 'u'})"
      ]
     },
     "execution_count": 2,
     "metadata": {},
     "output_type": "execute_result"
    }
   ],
   "source": [
    "#task 2 unique letters  | set lecture 2/12 and set operations in PFE\n",
    "def unique_letters(string1:str, string2:str) -> (set,set,set):\n",
    "    firstset = set(string1)\n",
    "    secondset = set(string2)\n",
    "    return (firstset - secondset, secondset- firstset, firstset&secondset) #unqiue 1, unique2, intersection\n",
    "\n",
    "unique_letters(\"Alexy Tregubov\", \"Srinath Begudem\")  #capitalize letters count as unique letter as well "
   ]
  },
  {
   "cell_type": "code",
   "execution_count": 14,
   "id": "09745308-88ef-4983-afc7-884720ec6ddf",
   "metadata": {},
   "outputs": [
    {
     "name": "stdout",
     "output_type": "stream",
     "text": [
      "{'Bob': {'average': 77.67, 'highest': 80}, 'Alice': {'average': 93.33, 'highest': 100}}\n"
     ]
    }
   ],
   "source": [
    "#task 3 grade summary function  | dictionary chapter 9 , sorting (lecture 2/12)\n",
    "def grade_summary(student_grades:dict) -> dict:\n",
    "    result = {\n",
    "        student: { \"average\": round(sum(grades) / len(grades), 2), \"highest\": max(grades) }  #len(grades) count how many grades\n",
    "        for student, grades in student_grades.items() } #key value pair student, grades\n",
    "    return result\n",
    "\n",
    "grades= {\"Bob\": [75, 78, 80], \"Alice\": [88, 92, 100]}  #Without sorting bob will come first\n",
    "print(grade_summary(grades))\n",
    "    "
   ]
  },
  {
   "cell_type": "code",
   "execution_count": 13,
   "id": "e2e3b861-4424-48e5-a153-59c1038e7c88",
   "metadata": {},
   "outputs": [
    {
     "name": "stdout",
     "output_type": "stream",
     "text": [
      "{'Alice': {'average': 93.33, 'highest': 100}, 'Bob': {'average': 77.67, 'highest': 80}}\n"
     ]
    }
   ],
   "source": [
    "#task 3 grade summary function extra credit | dictionary chapter 9 , sorting (lecture 2/12) \n",
    "def grade_summary(student_grades:dict) -> dict:\n",
    "    result = {\n",
    "        student: { \"average\": round(sum(grades) / len(grades), 2), \"highest\": max(grades) }  #len(grades) count how many grades\n",
    "        for student, grades in student_grades.items() } #key value pair student, grades\n",
    "    return dict(sorted(result.items()))  #sorted function for the key value pair of student, grades \n",
    "\n",
    "grades= {\"Bob\": [75, 78, 80], \"Alice\": [88, 92, 100]}   # Alice comes first even If i put bob first\n",
    "print(grade_summary(grades))\n",
    "    "
   ]
  },
  {
   "cell_type": "code",
   "execution_count": 2,
   "id": "015df9bc-cc7e-4b17-83d0-f5c382599b68",
   "metadata": {},
   "outputs": [
    {
     "name": "stderr",
     "output_type": "stream",
     "text": [
      "usage: ipykernel_launcher.py [-h] input_file output_file\n",
      "ipykernel_launcher.py: error: the following arguments are required: output_file\n"
     ]
    },
    {
     "ename": "SystemExit",
     "evalue": "2",
     "output_type": "error",
     "traceback": [
      "An exception has occurred, use %tb to see the full traceback.\n",
      "\u001b[0;31mSystemExit\u001b[0m\u001b[0;31m:\u001b[0m 2\n"
     ]
    }
   ],
   "source": [
    "#Task 4 grade summary program\n",
    "import csv\n",
    "import argparse\n",
    "\n",
    "def read_students(file:str) -> dict:\n",
    "    students = {}\n",
    "    with open(file, newline= \"\") as csvfile:\n",
    "        reader = csv.reader(csvfile)\n",
    "        next(reader)\n",
    "        for row in reader:\n",
    "            student_id, name, *grades = row\n",
    "            grades = [int(g) for g in grades if g.strip().isdigit()]\n",
    "            students[name] = grades\n",
    "        return students\n",
    "\n",
    "def grade_summary(students: dict) -> dict:\n",
    "    result = {\n",
    "        student: { \"average\": round(sum(grades) / len(grades), 2), \"highest\": max(grades) }  \n",
    "        for student, grades in students.items() } \n",
    "    return dict(sorted(result.items()))  \n",
    "\n",
    "def write_averages(file:str, averages: dict):\n",
    "    with open(file, \"w\", newline= \"\") as csvfile:\n",
    "        writer= csv.writer(csvfile)\n",
    "        writer.writerow([\"student_name\", \"average_grade\", \"highest\"])\n",
    "        for student, stats in averages.items():\n",
    "            writer.writerow([student, stats[\"average\"], stats[\"highest\"]])\n",
    "\n",
    "def main():\n",
    "    parser = argparse.ArgumentParser(description='Process student grades.')\n",
    "    parser.add_argument('input_file', type=str, help='csv file with student grades')\n",
    "    parser.add_argument('output_file', type=str, help='csv file to write summaries')\n",
    "    \n",
    "    args = parser.parse_args()\n",
    "    students = read_students(args.input_file)\n",
    "    summaries = grade_summary(students)\n",
    "    write_averages(args.output_file, summaries)\n",
    "\n",
    "if __name__ == \"__main__\":\n",
    "    main()\n",
    "\n",
    "    \n",
    "\n"
   ]
  },
  {
   "cell_type": "code",
   "execution_count": null,
   "id": "7b237d11-eab0-4b56-885f-1fdcdb576f3d",
   "metadata": {},
   "outputs": [],
   "source": []
  }
 ],
 "metadata": {
  "kernelspec": {
   "display_name": "Python 3 (ipykernel)",
   "language": "python",
   "name": "python3"
  },
  "language_info": {
   "codemirror_mode": {
    "name": "ipython",
    "version": 3
   },
   "file_extension": ".py",
   "mimetype": "text/x-python",
   "name": "python",
   "nbconvert_exporter": "python",
   "pygments_lexer": "ipython3",
   "version": "3.12.7"
  }
 },
 "nbformat": 4,
 "nbformat_minor": 5
}
