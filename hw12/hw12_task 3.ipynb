{
 "cells": [
  {
   "cell_type": "code",
   "execution_count": 5,
   "id": "b8ba5e86-6ea1-4b5c-8d79-d9fcf3fe88f8",
   "metadata": {},
   "outputs": [
    {
     "name": "stdout",
     "output_type": "stream",
     "text": [
      "Books by Harper Lee: ['1984']\n"
     ]
    }
   ],
   "source": [
    "#task 3\n",
    "import sqlite3\n",
    "\n",
    "def find_books_by_author(author_name: str, db_path: str) -> list:\n",
    "    conn = sqlite3.connect(db_path)\n",
    "    cur = conn.cursor()\n",
    "    query = \"\"\"\n",
    "    SELECT books.title\n",
    "    FROM books\n",
    "    JOIN book_authors ON books.id = book_authors.book_id\n",
    "    JOIN authors ON book_authors.author_id = authors.id\n",
    "    WHERE authors.name = ?\n",
    "    \"\"\"\n",
    "    cur.execute(query, (author_name,))\n",
    "    books = cur.fetchall()\n",
    "    conn.close()\n",
    "    return [book[0] for book in books]\n",
    "\n",
    "\n",
    "example = find_books_by_author(\"Harper Lee\", \"bookstore.db\")\n",
    "print(\"Books by Harper Lee:\", result)"
   ]
  },
  {
   "cell_type": "code",
   "execution_count": 4,
   "id": "2b011f3b-aab8-4f10-ad2d-26f31072653e",
   "metadata": {},
   "outputs": [
    {
     "name": "stdout",
     "output_type": "stream",
     "text": [
      "Books by Secker & Warburg in 1949: ['1984']\n"
     ]
    }
   ],
   "source": [
    "#task 3\n",
    "import sqlite3\n",
    "\n",
    "def find_books_by_publisher_and_year(publisher_name: str, year: int, db_path: str) -> list:\n",
    "    conn = sqlite3.connect(db_path)\n",
    "    cur = conn.cursor()\n",
    "    query = \"\"\"\n",
    "    SELECT title\n",
    "    FROM books\n",
    "    WHERE publisher = ? AND year = ?\n",
    "    \"\"\"\n",
    "    cur.execute(query, (publisher_name, year))\n",
    "    books = cur.fetchall()\n",
    "    conn.close()\n",
    "    return [book[0] for book in books]\n",
    "\n",
    "example = find_books_by_publisher_and_year(\"Secker & Warburg\", 1949, \"bookstore.db\")\n",
    "print(\"Books by Secker & Warburg in 1949:\", result)"
   ]
  },
  {
   "cell_type": "code",
   "execution_count": 6,
   "id": "7cdd08ae-7559-4d50-9769-7df3a3d03f43",
   "metadata": {},
   "outputs": [
    {
     "name": "stdout",
     "output_type": "stream",
     "text": [
      "Average price for J.R.R. Tolkien: ['1984']\n"
     ]
    }
   ],
   "source": [
    "#task 3\n",
    "import sqlite3\n",
    "\n",
    "def average_price_by_author(author_name: str, db_path: str) -> float:\n",
    "    conn = sqlite3.connect(db_path)\n",
    "    cur = conn.cursor()\n",
    "    query = \"\"\"\n",
    "    SELECT AVG(sells.price)\n",
    "    FROM sells\n",
    "    JOIN books ON sells.book_id = books.id\n",
    "    JOIN book_authors ON books.id = book_authors.book_id\n",
    "    JOIN authors ON book_authors.author_id = authors.id\n",
    "    WHERE authors.name = ?\n",
    "    \"\"\"\n",
    "    cur.execute(query, (author_name,))\n",
    "    result = cur.fetchone()[0]\n",
    "    conn.close()\n",
    "    return result if result is not None else 0.0\n",
    "\n",
    "\n",
    "example = average_price_by_author(\"J.R.R. Tolkien\", \"bookstore.db\")\n",
    "print(\"Average price for J.R.R. Tolkien:\", result)"
   ]
  },
  {
   "cell_type": "code",
   "execution_count": 8,
   "id": "daa9732d-79fa-4356-a159-5d5d7081f6aa",
   "metadata": {},
   "outputs": [
    {
     "name": "stdout",
     "output_type": "stream",
     "text": [
      "Saved hw12_task3.py!\n"
     ]
    }
   ],
   "source": [
    "# task 3\n",
    "content = '''import sqlite3\n",
    "\n",
    "def find_books_by_author(author_name: str, db_path: str) -> list:\n",
    "    conn = sqlite3.connect(db_path)\n",
    "    cur = conn.cursor()\n",
    "    query = \"\"\"\n",
    "    SELECT books.title\n",
    "    FROM books\n",
    "    JOIN book_authors ON books.id = book_authors.book_id\n",
    "    JOIN authors ON book_authors.author_id = authors.id\n",
    "    WHERE authors.name = ?\n",
    "    \"\"\"\n",
    "    cur.execute(query, (author_name,))\n",
    "    books = cur.fetchall()\n",
    "    conn.close()\n",
    "    return [book[0] for book in books]\n",
    "\n",
    "def find_books_by_publisher_and_year(publisher_name: str, year: int, db_path: str) -> list:\n",
    "    conn = sqlite3.connect(db_path)\n",
    "    cur = conn.cursor()\n",
    "    query = \"\"\"\n",
    "    SELECT title\n",
    "    FROM books\n",
    "    WHERE publisher = ? AND year = ?\n",
    "    \"\"\"\n",
    "    cur.execute(query, (publisher_name, year))\n",
    "    books = cur.fetchall()\n",
    "    conn.close()\n",
    "    return [book[0] for book in books]\n",
    "\n",
    "def average_price_by_author(author_name: str, db_path: str) -> float:\n",
    "    conn = sqlite3.connect(db_path)\n",
    "    cur = conn.cursor()\n",
    "    query = \"\"\"\n",
    "    SELECT AVG(sells.price)\n",
    "    FROM sells\n",
    "    JOIN books ON sells.book_id = books.id\n",
    "    JOIN book_authors ON books.id = book_authors.book_id\n",
    "    JOIN authors ON book_authors.author_id = authors.id\n",
    "    WHERE authors.name = ?\n",
    "    \"\"\"\n",
    "    cur.execute(query, (author_name,))\n",
    "    result = cur.fetchone()[0]\n",
    "    conn.close()\n",
    "    return result if result is not None else 0.0\n",
    "\n",
    "if __name__ == \"__main__\":\n",
    "    db_path = \"bookstore.db\"\n",
    "    print(\"Books by Harper Lee:\", find_books_by_author(\"Harper Lee\", db_path))\n",
    "    print(\"Books by Secker & Warburg in 1949:\", find_books_by_publisher_and_year(\"Secker & Warburg\", 1949, db_path))\n",
    "    print(\"Average price for J.R.R. Tolkien:\", average_price_by_author(\"J.R.R. Tolkien\", db_path))\n",
    "'''\n",
    "\n",
    "with open(\"hw12_task3.py\", \"w\") as f:\n",
    "    f.write(content)\n",
    "\n",
    "print(\"Saved hw12_task3.py!\")"
   ]
  },
  {
   "cell_type": "code",
   "execution_count": null,
   "id": "5b9cbb4a-1824-4df5-b023-60c7b5f86aea",
   "metadata": {},
   "outputs": [],
   "source": []
  }
 ],
 "metadata": {
  "kernelspec": {
   "display_name": "Python 3 (ipykernel)",
   "language": "python",
   "name": "python3"
  },
  "language_info": {
   "codemirror_mode": {
    "name": "ipython",
    "version": 3
   },
   "file_extension": ".py",
   "mimetype": "text/x-python",
   "name": "python",
   "nbconvert_exporter": "python",
   "pygments_lexer": "ipython3",
   "version": "3.12.7"
  }
 },
 "nbformat": 4,
 "nbformat_minor": 5
}
