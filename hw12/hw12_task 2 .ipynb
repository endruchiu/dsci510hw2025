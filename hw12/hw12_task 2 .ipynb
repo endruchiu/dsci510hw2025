{
 "cells": [
  {
   "cell_type": "code",
   "execution_count": 1,
   "id": "53cf4c08-dd09-441c-8e16-46c700ef1d7e",
   "metadata": {},
   "outputs": [
    {
     "name": "stdout",
     "output_type": "stream",
     "text": [
      "Saved db_schema.sql!\n"
     ]
    }
   ],
   "source": [
    "#task 2\n",
    "schema = \"\"\"DROP TABLE IF EXISTS sells;\n",
    "DROP TABLE IF EXISTS book_authors;\n",
    "DROP TABLE IF EXISTS books;\n",
    "DROP TABLE IF EXISTS authors;\n",
    "DROP TABLE IF EXISTS bookstores;\n",
    "\n",
    "CREATE TABLE books (\n",
    "    id INTEGER PRIMARY KEY,\n",
    "    title TEXT NOT NULL,\n",
    "    publisher TEXT NOT NULL,\n",
    "    year INTEGER NOT NULL\n",
    ");\n",
    "\n",
    "CREATE TABLE authors (\n",
    "    id INTEGER PRIMARY KEY,\n",
    "    name TEXT NOT NULL\n",
    ");\n",
    "\n",
    "CREATE TABLE book_authors (\n",
    "    book_id INTEGER,\n",
    "    author_id INTEGER,\n",
    "    FOREIGN KEY (book_id) REFERENCES books(id),\n",
    "    FOREIGN KEY (author_id) REFERENCES authors(id),\n",
    "    PRIMARY KEY (book_id, author_id)\n",
    ");\n",
    "\n",
    "CREATE TABLE bookstores (\n",
    "    id INTEGER PRIMARY KEY,\n",
    "    name TEXT NOT NULL,\n",
    "    address TEXT NOT NULL\n",
    ");\n",
    "\n",
    "CREATE TABLE sells (\n",
    "    bookstore_id INTEGER,\n",
    "    book_id INTEGER,\n",
    "    price REAL NOT NULL,\n",
    "    FOREIGN KEY (bookstore_id) REFERENCES bookstores(id),\n",
    "    FOREIGN KEY (book_id) REFERENCES books(id),\n",
    "    PRIMARY KEY (bookstore_id, book_id)\n",
    ");\"\"\"\n",
    "\n",
    "with open(\"db_schema.sql\", \"w\") as f:\n",
    "    f.write(schema)\n",
    "\n",
    "print(\"Saved db_schema.sql!\")"
   ]
  },
  {
   "cell_type": "code",
   "execution_count": 2,
   "id": "c6b920fb-0b08-4007-a499-0cffd0f3d77d",
   "metadata": {},
   "outputs": [
    {
     "name": "stdout",
     "output_type": "stream",
     "text": [
      "Saved sample_data.sql!\n"
     ]
    }
   ],
   "source": [
    "#task 2\n",
    "sample_data = \"\"\"-- Insert sample data into the books table\n",
    "INSERT INTO books (id, title, publisher, year) VALUES\n",
    "(1, 'The Great Gatsby', 'Scribner', 1925),\n",
    "(2, 'To Kill a Mockingbird', 'J.B. Lippincott & Co.', 1960),\n",
    "(3, '1984', 'Secker & Warburg', 1949),\n",
    "(4, 'Pride and Prejudice', 'T. Egerton', 1813),\n",
    "(5, 'The Catcher in the Rye', 'Little, Brown and Company', 1951),\n",
    "(6, 'American Gods', 'William Morrow', 2001),\n",
    "(7, 'Coraline', 'HarperCollins', 2002),\n",
    "(8, 'The Ocean at the End of the Lane', 'William Morrow', 2013),\n",
    "(9, 'Good Omens', 'Gollancz', 1990),\n",
    "(10, 'Neverwhere', 'BBC Books', 1996),\n",
    "(11, 'The Hobbit', 'George Allen & Unwin', 1937),\n",
    "(12, 'The Lord of the Rings', 'George Allen & Unwin', 1954),\n",
    "(13, 'Fahrenheit 451', 'Ballantine Books', 1953),\n",
    "(14, 'Brave New World', 'Chatto & Windus', 1932),\n",
    "(15, 'The Hitchhiker''s Guide to the Galaxy', 'Pan Books', 1979);\n",
    "\n",
    "-- Insert sample data into the authors table\n",
    "INSERT INTO authors (id, name) VALUES\n",
    "(1, 'F. Scott Fitzgerald'),\n",
    "(2, 'Harper Lee'),\n",
    "(3, 'George Orwell'),\n",
    "(4, 'Jane Austen'),\n",
    "(5, 'J.D. Salinger'),\n",
    "(6, 'Neil Gaiman'),\n",
    "(7, 'J.R.R. Tolkien'),\n",
    "(8, 'Ray Bradbury'),\n",
    "(9, 'Aldous Huxley'),\n",
    "(10, 'Douglas Adams');\n",
    "\n",
    "-- Insert sample data into the book_authors table\n",
    "INSERT INTO book_authors (book_id, author_id) VALUES\n",
    "(1, 1),  -- The Great Gatsby by F. Scott Fitzgerald\n",
    "(2, 2),  -- To Kill a Mockingbird by Harper Lee\n",
    "(3, 3),  -- 1984 by George Orwell\n",
    "(4, 4),  -- Pride and Prejudice by Jane Austen\n",
    "(5, 5),  -- The Catcher in the Rye by J.D. Salinger\n",
    "(6, 6),  -- American Gods by Neil Gaiman\n",
    "(7, 6),  -- Coraline by Neil Gaiman\n",
    "(8, 6),  -- The Ocean at the End of the Lane by Neil Gaiman\n",
    "(9, 6),  -- Good Omens by Neil Gaiman\n",
    "(10, 6), -- Neverwhere by Neil Gaiman\n",
    "(11, 7), -- The Hobbit by J.R.R. Tolkien\n",
    "(12, 7), -- The Lord of the Rings by J.R.R. Tolkien\n",
    "(13, 8), -- Fahrenheit 451 by Ray Bradbury\n",
    "(14, 9), -- Brave New World by Aldous Huxley\n",
    "(15, 10); -- The Hitchhiker's Guide to the Galaxy by Douglas Adams\n",
    "\n",
    "-- Insert sample data into the bookstores table\n",
    "INSERT INTO bookstores (id, name, address) VALUES\n",
    "(1, 'City Bookstore', '123 Main St, Anytown, USA'),\n",
    "(2, 'Readers Haven', '456 Elm St, Anytown, USA'),\n",
    "(3, 'The Book Nook', '789 Oak St, Anytown, USA');\n",
    "\n",
    "-- Insert sample data into the sells table\n",
    "INSERT INTO sells (bookstore_id, book_id, price) VALUES\n",
    "(1, 1, 10.99),  -- City Bookstore sells The Great Gatsby for $10.99\n",
    "(1, 2, 12.99),  -- City Bookstore sells To Kill a Mockingbird for $12.99\n",
    "(2, 3, 15.99),  -- Readers Haven sells 1984 for $15.99\n",
    "(2, 4, 9.99),   -- Readers Haven sells Pride and Prejudice for $9.99\n",
    "(3, 5, 14.99),  -- The Book Nook sells The Catcher in the Rye for $14.99\n",
    "(3, 1, 11.99);  -- The Book Nook sells The Great Gatsby for $11.99\n",
    "\"\"\"\n",
    "\n",
    "with open(\"sample_data.sql\", \"w\") as f:\n",
    "    f.write(sample_data)\n",
    "\n",
    "print(\"Saved sample_data.sql!\")"
   ]
  },
  {
   "cell_type": "code",
   "execution_count": 3,
   "id": "0317d11c-0f7c-47d4-98cc-8968cec3f96a",
   "metadata": {},
   "outputs": [
    {
     "name": "stdout",
     "output_type": "stream",
     "text": [
      "Database created and populated!\n"
     ]
    }
   ],
   "source": [
    "#task 2\n",
    "import sqlite3\n",
    "\n",
    "conn = sqlite3.connect(\"bookstore.db\")\n",
    "cur = conn.cursor()\n",
    "\n",
    "with open(\"db_schema.sql\", \"r\") as f:\n",
    "    cur.executescript(f.read())\n",
    "\n",
    "with open(\"sample_data.sql\", \"r\") as f:\n",
    "    cur.executescript(f.read())\n",
    "\n",
    "conn.commit()\n",
    "print(\"Database created and populated!\")\n",
    "conn.close()"
   ]
  },
  {
   "cell_type": "code",
   "execution_count": null,
   "id": "aae9aea3-657d-440c-aaae-29a67c38a010",
   "metadata": {},
   "outputs": [],
   "source": []
  }
 ],
 "metadata": {
  "kernelspec": {
   "display_name": "Python 3 (ipykernel)",
   "language": "python",
   "name": "python3"
  },
  "language_info": {
   "codemirror_mode": {
    "name": "ipython",
    "version": 3
   },
   "file_extension": ".py",
   "mimetype": "text/x-python",
   "name": "python",
   "nbconvert_exporter": "python",
   "pygments_lexer": "ipython3",
   "version": "3.12.7"
  }
 },
 "nbformat": 4,
 "nbformat_minor": 5
}
